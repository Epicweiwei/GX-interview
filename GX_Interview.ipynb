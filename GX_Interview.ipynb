{
 "cells": [
  {
   "cell_type": "code",
   "execution_count": 48,
   "id": "61e8bbe3",
   "metadata": {},
   "outputs": [
    {
     "name": "stdout",
     "output_type": "stream",
     "text": [
      "        Name                   Datetime  Amount  Price  Purity     Total\n",
      "0   ProductA  2022-01-01 07:00:00+06:00      10  22.09  Impure  165.6750\n",
      "1   ProductA  2022-01-01 08:00:00+06:00      15  24.22    Pure  363.3000\n",
      "2   ProductA  2022-01-01 09:00:00+06:00      10  25.96  Impure  194.7000\n",
      "3   ProductA  2022-01-01 10:00:00+06:00      20  21.16  Impure  317.4000\n",
      "4   ProductA  2022-01-01 11:00:00+06:00      10  20.05    Pure  200.5000\n",
      "5   ProductA  2022-01-01 12:00:00+06:00      10  21.27  Impure  159.5250\n",
      "6   ProductA  2022-01-01 13:00:00+06:00      20  20.08    Pure  401.6000\n",
      "7   ProductA  2022-01-01 14:00:00+06:00      10  22.19    Pure  221.9000\n",
      "8   ProductA  2022-01-01 15:00:00+06:00      15  21.23  Impure  238.8375\n",
      "9   ProductA  2022-01-01 16:00:00+06:00      20  22.34    Pure  446.8000\n",
      "10  ProductA  2022-01-01 17:00:00+06:00      10  21.87  Impure  164.0250\n",
      "11  ProductA  2022-01-01 18:00:00+06:00      10  21.71  Impure  162.8250\n",
      "12  ProductB  2022-01-01 07:00:00+06:00      20  22.37  Impure    4.2000\n",
      "13  ProductB  2022-01-01 08:00:00+06:00      20  24.54    Pure    6.4000\n",
      "14  ProductB  2022-01-01 09:00:00+06:00      10  26.03  Impure    0.5250\n",
      "15  ProductB  2022-01-01 10:00:00+06:00      20  21.19  Impure    0.4500\n",
      "16  ProductB  2022-01-01 11:00:00+06:00      10  20.23    Pure    1.8000\n",
      "17  ProductB  2022-01-01 12:00:00+06:00      15  21.34  Impure    0.7875\n",
      "18  ProductB  2022-01-01 13:00:00+06:00      20  20.79    Pure   14.2000\n",
      "19  ProductB  2022-01-01 14:00:00+06:00      10  23.32    Pure   11.3000\n",
      "20  ProductB  2022-01-01 15:00:00+06:00      20  21.43  Impure    3.0000\n",
      "21  ProductB  2022-01-01 16:00:00+06:00      20  22.67    Pure    6.6000\n",
      "22  ProductB  2022-01-01 17:00:00+06:00      10  21.99  Impure    0.9000\n",
      "23  ProductB  2022-01-01 18:00:00+06:00      20  21.72  Impure    0.1500\n"
     ]
    }
   ],
   "source": [
    "import pandas as pd\n",
    "import pytz\n",
    "from datetime import datetime\n",
    "from pytz import timezone\n",
    "\n",
    "url = 'https://raw.githubusercontent.com/Epicweiwei/GX-interview/main/source.csv'\n",
    "df = pd.read_csv(url)\n",
    "\n",
    "for i in range(len(df)):\n",
    "    temp_time = df.loc[i, 'Datetime']\n",
    "    UTC_tz = datetime.fromisoformat(temp_time[:-1] + '+00:00')\n",
    "    UTC6_tz= UTC_tz.astimezone(pytz.timezone('Asia/Bishkek'))\n",
    "    df.loc[i, 'Datetime'] = UTC6_tz\n",
    "    \n",
    "df['Total'] = 0\n",
    "    \n",
    "for i in range(len(df)):\n",
    "    if df.loc[i, 'Name'] == 'ProductA':\n",
    "        df.loc[i, 'Total'] = df.loc[i, 'Amount'] * df.loc[i, 'Price']\n",
    "    elif df.loc[i, 'Name'] == 'ProductB':\n",
    "        for j in range(len(df)):\n",
    "            if (df.loc[j, 'Name'] == 'ProductA') & (df.loc[j, 'Datetime'] == df.loc[i, 'Datetime']):\n",
    "                df.loc[i, 'Total'] = df.loc[i, 'Amount'] * (df.loc[i, 'Price'] - df.loc[j, 'Price'])\n",
    "\n",
    "for k in range(len(df)):       \n",
    "    if df.loc[k, 'Purity'] == 'Impure':\n",
    "        df.loc[k, 'Total'] *= 0.75\n",
    "\n",
    "df.to_csv(r\"C:\\\\Users\\\\weish\\\\Downloads\\\\result.csv\", index=False)\n",
    "print(df)"
   ]
  }
 ],
 "metadata": {
  "kernelspec": {
   "display_name": "Python 3 (ipykernel)",
   "language": "python",
   "name": "python3"
  },
  "language_info": {
   "codemirror_mode": {
    "name": "ipython",
    "version": 3
   },
   "file_extension": ".py",
   "mimetype": "text/x-python",
   "name": "python",
   "nbconvert_exporter": "python",
   "pygments_lexer": "ipython3",
   "version": "3.11.5"
  }
 },
 "nbformat": 4,
 "nbformat_minor": 5
}
